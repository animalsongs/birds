{
 "cells": [
  {
   "cell_type": "markdown",
   "id": "3928ddd0-106e-4f52-9f44-17686b499d3a",
   "metadata": {},
   "source": [
    "<center> <h1> <b>BIRDSONGS<b></h1> </center>\n",
    "<center> <h1>Birdsong Tutorial</h1> </center>"
   ]
  },
  {
   "cell_type": "markdown",
   "id": "0deff139-7ffa-4c61-9a26-68ed0eb9ad89",
   "metadata": {},
   "source": [
    "# Define Objects\n",
    "\n",
    "the following line enable interact with figures, you can make zoom and save images from a poup matplotlib window. Opciones: notebook, qt, ipympl, tk, qt, or widget"
   ]
  },
  {
   "cell_type": "code",
   "execution_count": null,
   "id": "67d2611c",
   "metadata": {},
   "outputs": [],
   "source": [
    "!pip install ../"
   ]
  },
  {
   "cell_type": "code",
   "execution_count": null,
   "id": "687b1eb3",
   "metadata": {},
   "outputs": [],
   "source": [
    "#pip install playsound@git+https://github.com/taconi/playsound"
   ]
  },
  {
   "cell_type": "code",
   "execution_count": 1,
   "id": "f6e21f64-ea16-4435-bbec-08b0a642d3cc",
   "metadata": {},
   "outputs": [
    {
     "name": "stderr",
     "output_type": "stream",
     "text": [
      "playsound is relying on another python subprocess. Please use `pip install pygobject` if you want playsound to run more efficiently.\n"
     ]
    }
   ],
   "source": [
    "%matplotlib ipympl\n",
    "\n",
    "import birdsongs as bs\n",
    "from birdsongs.util import *"
   ]
  },
  {
   "cell_type": "markdown",
   "id": "1177b1d5-4d38-4fbf-a4c0-e25ab5b497c9",
   "metadata": {},
   "source": [
    "Define Path and Ploter objects"
   ]
  },
  {
   "cell_type": "code",
   "execution_count": 4,
   "id": "8ede83e4-dbcf-422c-8da1-290669373323",
   "metadata": {},
   "outputs": [
    {
     "data": {
      "text/plain": [
       "['574179401 - Zonotrichia Capensis.wav',\n",
       " 'XC388622 - Ocellated Tapaculo - Acropternis orthonyx.mp3']"
      ]
     },
     "execution_count": 4,
     "metadata": {},
     "output_type": "execute_result"
    }
   ],
   "source": [
    "# root_path   = \"path_to_repository\\\\'\n",
    "# audios_path = \"'\n",
    "\n",
    "paths  = bs.Paths() \n",
    "plotter = bs.Plotter(save=True)   # to save figures save=True \n",
    "paths.AudioFiles()"
   ]
  },
  {
   "cell_type": "markdown",
   "id": "b87dd935-73e4-4de1-9261-d4a28ee87b3c",
   "metadata": {},
   "source": [
    "Define, visualize and hear a birdsong object from the file number of the previous table. \n",
    "You can also define the interval time points with the function Plot but enabling the SelectTime_on option, this option does not work with pitch on"
   ]
  },
  {
   "cell_type": "code",
   "execution_count": null,
   "id": "2d58d5f1-f4d1-4098-9b9b-24bde30ffdc3",
   "metadata": {},
   "outputs": [],
   "source": [
    "birdsong = bs.BirdSong(paths, file_id=\"574179401\",  umbral_FF=1.0, NN=512, flim=(1e3,20e3), # tlim=(5,7),\n",
    "                       split_method=\"freq\", Nt=5000, umbral=0.05)\n",
    "plotter.Plot(birdsong, FF_on=False, SelectTime_on=True)\n",
    "AudioPlay(birdsong)"
   ]
  },
  {
   "cell_type": "code",
   "execution_count": null,
   "id": "090158df-c2c1-4f9a-b4b5-7e054c55ef71",
   "metadata": {},
   "outputs": [],
   "source": [
    "# time_intervals = Positions(ploter.klicker)\n",
    "time_intervals = np.array([[0.35362068, 0.49966724],\n",
    "                           [0.65662832, 0.97055046],\n",
    "                           [1.12231415, 1.3515189 ],\n",
    "                           [1.43883499, 1.61502639],\n",
    "                           [1.72105308, 1.87125755]])\n",
    "print(\"You have selected {} syllables.\".format(time_intervals.shape[0]))\n",
    "[print(r\"  - Syllable {}: t0 = {:.4f} s , tend = {:.4f} s\".format(i, time_intervals[i,0], time_intervals[i,1])) for i in range(time_intervals.shape[0])];"
   ]
  },
  {
   "cell_type": "markdown",
   "id": "c6eacaae-98fc-4f66-8d7d-fc0a2626a28e",
   "metadata": {},
   "source": [
    "Define, solve and plot a single syllable from the previous syllables defined"
   ]
  },
  {
   "cell_type": "code",
   "execution_count": null,
   "id": "22091cc4-284d-4390-a3cd-c35a1ded9658",
   "metadata": {},
   "outputs": [],
   "source": [
    "%%time\n",
    "syllable = bs.Syllable(birdsong, tlim=time_intervals[4], ide=\"syllable\",\n",
    "                       umbral_FF=0.5, Nt=30,  flim=(1e3,20e3), NN=birdsong.NN)\n",
    "ploter.Plot(syllable, FF_on=True)\n",
    "AudioPlay(syllable)"
   ]
  },
  {
   "cell_type": "code",
   "execution_count": null,
   "id": "1d1621b5-01f8-404f-b2a1-6bd920b0a967",
   "metadata": {},
   "outputs": [],
   "source": [
    "syllable_synth = syllable.Solve(syllable.p)\n",
    "\n",
    "ploter.Syllables(syllable, syllable_synth)\n",
    "ploter.PlotVs(syllable_synth)\n",
    "ploter.PlotAlphaBeta(syllable_synth)\n",
    "ploter.Result(syllable, syllable_synth)\n",
    "AudioPlay(syllable_synth)"
   ]
  },
  {
   "cell_type": "markdown",
   "id": "ecc3ceb4-80c1-406c-b163-2cc4b0b18557",
   "metadata": {},
   "source": [
    "# Optimization\n",
    "Define the optimizer object"
   ]
  },
  {
   "cell_type": "code",
   "execution_count": null,
   "id": "06325b04-82f7-4859-8dbc-2f4eb90bfc35",
   "metadata": {},
   "outputs": [],
   "source": [
    "method_kwargs = {'method':'brute', 'Ns':5} #, \"workers\":-1 \n",
    "optimizer     = bs.Optimizer(birdsong, method_kwargs=method_kwargs)"
   ]
  },
  {
   "cell_type": "markdown",
   "id": "8d384e80-b627-4572-be5c-2ac80b14a94a",
   "metadata": {},
   "source": [
    "Generate the whole synthetic birdsongs defined by the previous time intervals"
   ]
  },
  {
   "cell_type": "code",
   "execution_count": null,
   "id": "0ee308a9-22ae-4990-906e-78a7feedb6fb",
   "metadata": {},
   "outputs": [],
   "source": [
    "birdsong, synth_birdsong = optimizer.SongByTimes(time_intervals, NN=256)\n",
    "Display(synth_birdsong.p)"
   ]
  },
  {
   "cell_type": "code",
   "execution_count": null,
   "id": "a93b18dc-02f1-4f78-89b8-187eb5699741",
   "metadata": {},
   "outputs": [],
   "source": [
    "Display(birdsong.p)"
   ]
  },
  {
   "cell_type": "code",
   "execution_count": null,
   "id": "d3f366e6-05fc-4d10-a427-1d1e3a99b92b",
   "metadata": {},
   "outputs": [],
   "source": [
    "ploter.Plot(synth_birdsong)\n",
    "# ploter.PlotAlphaBeta(synth_birdsong)\n",
    "\n",
    "AudioPlay(synth_birdsong)"
   ]
  },
  {
   "cell_type": "code",
   "execution_count": null,
   "id": "6d031856-272d-43a2-a291-4a99240d3a39",
   "metadata": {},
   "outputs": [],
   "source": [
    "ploter.Plot(birdsong)\n",
    "AudioPlay(birdsong)"
   ]
  },
  {
   "cell_type": "code",
   "execution_count": null,
   "id": "dc29ab71-f88b-4ffe-9acb-f6bc9f2aa7ca",
   "metadata": {},
   "outputs": [],
   "source": [
    "birdsong.no_syllable = 1\n",
    "ploter.Syllables(birdsong, synth_birdsong);"
   ]
  },
  {
   "cell_type": "markdown",
   "id": "1132617a-d482-4b7b-b1d5-2980e586d58f",
   "metadata": {},
   "source": [
    "Visualize and hear the whole synthetic birdsong"
   ]
  },
  {
   "cell_type": "code",
   "execution_count": null,
   "id": "309cca34-1ac1-4ff6-b00e-b8007616b109",
   "metadata": {},
   "outputs": [],
   "source": [
    "# %%time\n",
    "synth_bird = synth_birdsong.SolveAB(synth_birdsong.alpha, synth_birdsong.beta, 3700)\n",
    "# # synth = SolveAB(syll, synth_birdsong.alphas, synth_birdsong.betas, 3700)"
   ]
  },
  {
   "cell_type": "code",
   "execution_count": null,
   "id": "b4136b70-e46b-4102-8e33-2a4f89bac0c1",
   "metadata": {},
   "outputs": [],
   "source": [
    "optimizer.optimal_gamma"
   ]
  },
  {
   "cell_type": "code",
   "execution_count": null,
   "id": "d325b222-8a29-4be7-b47b-bdc15da20452",
   "metadata": {},
   "outputs": [],
   "source": [
    "synth_birdsong.id = \"synth-birdsong\"\n",
    "synth_bird.paths = paths\n",
    "ploter.Result(birdsong, synth_bird)\n",
    "# ploter.PlotVs(synth_bird)\n",
    "AudioPlay(synth_bird)"
   ]
  },
  {
   "cell_type": "markdown",
   "id": "c448de1b-0b69-4c17-ad36-76cd58e57ba8",
   "metadata": {},
   "source": [
    "Save the real and synthetic birdsongs as audio WAV files"
   ]
  },
  {
   "cell_type": "code",
   "execution_count": null,
   "id": "1f0e0e69-4065-4bea-a97b-2d6cd439963b",
   "metadata": {},
   "outputs": [],
   "source": [
    "birdsong.WriteAudio();  synth_birdsong.WriteAudio();"
   ]
  },
  {
   "cell_type": "code",
   "execution_count": null,
   "id": "c1a0ec60-209d-41e1-a088-9a8f8e33c300",
   "metadata": {},
   "outputs": [],
   "source": [
    "# optimizer.SmoothAB(time_intervals)\n",
    "\n",
    "# plt.figure()\n",
    "# # plt.plot(synth_birdsong.time_s, synth_birdsong.betas_smooth, 'o', ms=2, label=\"beta smooth\")\n",
    "# # plt.plot(synth_birdsong.time_s, synth_birdsong.alphas_smooth, 'o', ms=1, label=\"alpha smooth\")\n",
    "\n",
    "# plt.plot(synth_birdsong.time_s, synth_birdsong.betas, 'o', ms=2, label=\"betas\")\n",
    "# plt.plot(synth_birdsong.time_s, synth_birdsong.alphas, 'o', ms=1, label=\"alpha\")\n",
    "\n",
    "# plt.xlim((0,2.6)); plt.legend()\n",
    "# plt.show()"
   ]
  },
  {
   "cell_type": "code",
   "execution_count": null,
   "id": "90e2d2db-dd00-4d3c-b188-811536291dc5",
   "metadata": {},
   "outputs": [],
   "source": []
  },
  {
   "cell_type": "code",
   "execution_count": null,
   "id": "81ab890c-584e-44ab-b2a6-4b8a2953d2e9",
   "metadata": {},
   "outputs": [],
   "source": []
  },
  {
   "cell_type": "code",
   "execution_count": null,
   "id": "f5106b5b-1984-4b6e-9435-61063427932f",
   "metadata": {},
   "outputs": [],
   "source": []
  }
 ],
 "metadata": {
  "kernelspec": {
   "display_name": "birdsongs",
   "language": "python",
   "name": "python3"
  },
  "language_info": {
   "codemirror_mode": {
    "name": "ipython",
    "version": 3
   },
   "file_extension": ".py",
   "mimetype": "text/x-python",
   "name": "python",
   "nbconvert_exporter": "python",
   "pygments_lexer": "ipython3",
   "version": "3.12.8"
  }
 },
 "nbformat": 4,
 "nbformat_minor": 5
}
